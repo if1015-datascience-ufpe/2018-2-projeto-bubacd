{
 "cells": [
  {
   "cell_type": "code",
   "execution_count": 1,
   "metadata": {},
   "outputs": [],
   "source": [
    "import got"
   ]
  },
  {
   "cell_type": "code",
   "execution_count": 48,
   "metadata": {},
   "outputs": [
    {
     "name": "stdout",
     "output_type": "stream",
     "text": [
      "[<got.models.Tweet.Tweet instance at 0x1103aee18>, <got.models.Tweet.Tweet instance at 0x1103aefc8>, <got.models.Tweet.Tweet instance at 0x1103b0878>]\n"
     ]
    },
    {
     "data": {
      "text/plain": [
       "'O governo do Bonosalro mal comeou e nem me surpreendeu ele acabar com o mais mdicos'"
      ]
     },
     "execution_count": 48,
     "metadata": {},
     "output_type": "execute_result"
    }
   ],
   "source": [
    "tweetCriteria = got.manager.TweetCriteria().setQuerySearch('bonosalro').setMaxTweets(3)\n",
    "t = got.manager.TweetManager.getTweets(tweetCriteria)\n",
    "print(t)\n",
    "t[2].text.encode('ascii','ignore')"
   ]
  },
  {
   "cell_type": "code",
   "execution_count": null,
   "metadata": {},
   "outputs": [],
   "source": []
  }
 ],
 "metadata": {
  "kernelspec": {
   "display_name": "Python 2",
   "language": "python",
   "name": "python2"
  },
  "language_info": {
   "codemirror_mode": {
    "name": "ipython",
    "version": 2
   },
   "file_extension": ".py",
   "mimetype": "text/x-python",
   "name": "python",
   "nbconvert_exporter": "python",
   "pygments_lexer": "ipython2",
   "version": "2.7.10"
  }
 },
 "nbformat": 4,
 "nbformat_minor": 2
}
