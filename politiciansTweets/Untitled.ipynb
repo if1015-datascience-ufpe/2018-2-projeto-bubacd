{
 "cells": [
  {
   "cell_type": "code",
   "execution_count": 1,
   "metadata": {},
   "outputs": [],
   "source": [
    "import got\n",
    "import csv"
   ]
  },
  {
   "cell_type": "code",
   "execution_count": 2,
   "metadata": {},
   "outputs": [],
   "source": [
    "def makeQuery(term):\n",
    "    criteria = got.manager.TweetCriteria()\n",
    "    criteria.setSince(\"2018-01-01\")\n",
    "    criteria.setUntil(\"2018-10-28\")\n",
    "    criteria.setQuerySearch(term)\n",
    "    criteria.setMaxTweets(100)\n",
    "    t = got.manager.TweetManager.getTweets(criteria)\n",
    "    return list(filter(lambda x: x.language == 'pt', t))\n",
    "\n"
   ]
  },
  {
   "cell_type": "code",
   "execution_count": 5,
   "metadata": {},
   "outputs": [],
   "source": [
    "bolsonaroQuery = makeQuery(\"bolsonaro\")\n",
    "bolsonaroList = [tweet.text.encode('utf-8') for tweet in bolsonaroQuery]\n",
    "\n",
    "#haddadQuery = makeQuery(\"haddad\")\n",
    "#haddadList = [tweet.text for tweet in haddadQuery]"
   ]
  },
  {
   "cell_type": "code",
   "execution_count": 12,
   "metadata": {},
   "outputs": [],
   "source": [
    "with open('tweets.csv','wb') as file:\n",
    "    for item in bolsonaroList:\n",
    "        file.write(item + \";\")\n",
    "        file.write(\"\\n\")"
   ]
  },
  {
   "cell_type": "code",
   "execution_count": null,
   "metadata": {},
   "outputs": [],
   "source": []
  }
 ],
 "metadata": {
  "kernelspec": {
   "display_name": "Python 2",
   "language": "python",
   "name": "python2"
  },
  "language_info": {
   "codemirror_mode": {
    "name": "ipython",
    "version": 2
   },
   "file_extension": ".py",
   "mimetype": "text/x-python",
   "name": "python",
   "nbconvert_exporter": "python",
   "pygments_lexer": "ipython2",
   "version": "2.7.15"
  }
 },
 "nbformat": 4,
 "nbformat_minor": 2
}
