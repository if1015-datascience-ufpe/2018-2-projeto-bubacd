{
 "cells": [
  {
   "cell_type": "code",
   "execution_count": 1,
   "metadata": {},
   "outputs": [],
   "source": [
    "import got"
   ]
  },
  {
   "cell_type": "code",
   "execution_count": 2,
   "metadata": {},
   "outputs": [
    {
     "name": "stdout",
     "output_type": "stream",
     "text": [
      "pt\n",
      "Y se va A podrir en la carcel EL LADRON DE LULA.!! Mírate en ese espejo ..!! Jejeje EL PANA BOLSORANO les va dar un empujóncito....\n"
     ]
    }
   ],
   "source": [
    "def makeQuery(term):\n",
    "    criteria = got.manager.TweetCriteria()\n",
    "    criteria.setSince(\"2018-01-01\")\n",
    "    criteria.setUntil(\"2018-10-28\")\n",
    "    criteria.setQuerySearch(term)\n",
    "    criteria.setMaxTweets(10000)\n",
    "    t = got.manager.TweetManager.getTweets(criteria)\n",
    "    return list(filter(lambda x: x.language == 'pt', t))\n",
    "\n"
   ]
  },
  {
   "cell_type": "code",
   "execution_count": null,
   "metadata": {},
   "outputs": [],
   "source": []
  }
 ],
 "metadata": {
  "kernelspec": {
   "display_name": "Python 2",
   "language": "python",
   "name": "python2"
  },
  "language_info": {
   "codemirror_mode": {
    "name": "ipython",
    "version": 2
   },
   "file_extension": ".py",
   "mimetype": "text/x-python",
   "name": "python",
   "nbconvert_exporter": "python",
   "pygments_lexer": "ipython2",
   "version": "2.7.10"
  }
 },
 "nbformat": 4,
 "nbformat_minor": 2
}
